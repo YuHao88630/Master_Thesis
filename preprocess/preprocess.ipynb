{
 "cells": [
  {
   "attachments": {},
   "cell_type": "markdown",
   "metadata": {},
   "source": [
    "Step1 資料觀察清洗"
   ]
  },
  {
   "attachments": {},
   "cell_type": "markdown",
   "metadata": {},
   "source": [
    "讀取資料並轉換為DataFrame 並肉眼觀察資料分布"
   ]
  },
  {
   "cell_type": "code",
   "execution_count": null,
   "metadata": {},
   "outputs": [],
   "source": [
    "import numpy as np\n",
    "import pandas as pd\n",
    "from matplotlib import pyplot as plt\n",
    "from sklearn.preprocessing import MinMaxScaler\n",
    "\n",
    "df = pd.read_csv('fea_raw.csv',low_memory = False)\n",
    "print(df.shape)\n",
    "pd.set_option('display.max_rows', None)\n",
    "pd.set_option('display.max_columns', None)\n",
    "print(df.describe())\n",
    "print(df.isnull().sum())\n",
    "print(df.info())\n",
    "df['Timestamp'] = pd.to_datetime(df['Timestamp'], format='%Y/%m/%d %H:%M') \n",
    "df = df.set_index('Timestamp') "
   ]
  },
  {
   "attachments": {},
   "cell_type": "markdown",
   "metadata": {},
   "source": [
    "讀取Power目標值資料並觀察"
   ]
  },
  {
   "cell_type": "code",
   "execution_count": null,
   "metadata": {},
   "outputs": [],
   "source": [
    "df1 = pd.read_csv('power_raw.csv')\n",
    "plt.plot(df1['Power(kW)'][0:100])\n",
    "plt.show()"
   ]
  },
  {
   "attachments": {},
   "cell_type": "markdown",
   "metadata": {},
   "source": [
    "正規化目標值取前100筆為例(貼結果才要跑)"
   ]
  },
  {
   "cell_type": "code",
   "execution_count": null,
   "metadata": {},
   "outputs": [],
   "source": [
    "df2 = pd.read_csv('power_raw.csv')\n",
    "scaler = MinMaxScaler(feature_range=(0,1))\n",
    "columns_to_normalize = ['Power(kW)']\n",
    "df2[columns_to_normalize] = scaler.fit_transform(df2[columns_to_normalize])\n",
    "plt.plot(df2['Power(kW)'][0:100])\n",
    "plt.show()"
   ]
  },
  {
   "attachments": {},
   "cell_type": "markdown",
   "metadata": {},
   "source": [
    "畫盒鬚圖並將誇張的值砍掉(以某欄為例貼結果才要跑)"
   ]
  },
  {
   "cell_type": "code",
   "execution_count": null,
   "metadata": {},
   "outputs": [],
   "source": [
    "from cmath import nan\n",
    "import seaborn as sns\n",
    "\n",
    "df.replace(99999,nan,inplace=True)\n",
    "sns.set(style=\"whitegrid\")\n",
    "ax = sns.boxplot(x = df['Gearbox_T1_High_Speed_Shaft_Temperature'], orient = \"h\", color = \"skyblue\")  # 畫盒圖"
   ]
  },
  {
   "attachments": {},
   "cell_type": "markdown",
   "metadata": {},
   "source": [
    "第一次補值結果(以某欄為例貼結果才要跑)"
   ]
  },
  {
   "cell_type": "code",
   "execution_count": null,
   "metadata": {},
   "outputs": [],
   "source": [
    "Q1 = df['Gearbox_T1_High_Speed_Shaft_Temperature'].quantile(0.25)\n",
    "Q3 = df['Gearbox_T1_High_Speed_Shaft_Temperature'].quantile(0.75)\n",
    "IQR = Q3 - Q1\n",
    "df.mask(((df['Gearbox_T1_High_Speed_Shaft_Temperature'] < (Q1 - 1.5 * IQR)) |(df['Gearbox_T1_High_Speed_Shaft_Temperature'] > (Q3 + 1.5 * IQR))),other=nan,inplace=True)\n",
    "df['Gearbox_T1_High_Speed_Shaft_Temperature'].interpolate(method = 'linear', inplace=True)\n",
    "sns.set(style=\"whitegrid\")\n",
    "ax = sns.boxplot(x = df['Gearbox_T1_High_Speed_Shaft_Temperature'], orient = \"h\", color = \"skyblue\")  # 畫盒圖"
   ]
  },
  {
   "attachments": {},
   "cell_type": "markdown",
   "metadata": {},
   "source": [
    "第一次異常值檢測與補值(盒鬚圖方法)"
   ]
  },
  {
   "cell_type": "code",
   "execution_count": null,
   "metadata": {},
   "outputs": [],
   "source": [
    "from cmath import nan\n",
    "\n",
    "# 繪製盒鬚圖\n",
    "# plt.boxplot(df.values, labels=df.columns)\n",
    "\n",
    "# 代替異常值為NaN\n",
    "Q1 = df.quantile(0.25)\n",
    "Q3 = df.quantile(0.75)\n",
    "IQR = Q3 - Q1\n",
    "df[(df < (Q1 - 1.5 * IQR)) | (df > (Q3 + 1.5 * IQR))] = np.nan\n",
    "\n",
    "# 線性插值\n",
    "df.interpolate(method='linear', inplace=True)\n",
    "\n",
    "print(df.isnull().any())\n",
    "print(df.describe())"
   ]
  },
  {
   "attachments": {},
   "cell_type": "markdown",
   "metadata": {},
   "source": [
    "第二次異常值檢測與補值(盒鬚圖方法)"
   ]
  },
  {
   "cell_type": "code",
   "execution_count": null,
   "metadata": {},
   "outputs": [],
   "source": [
    "# 繪製盒鬚圖\n",
    "# plt.boxplot(df.values, labels=df.columns)\n",
    "\n",
    "# 代替異常值為NaN\n",
    "Q1 = df.quantile(0.25)\n",
    "Q3 = df.quantile(0.75)\n",
    "IQR = Q3 - Q1\n",
    "df[(df < (Q1 - 1.5 * IQR)) | (df > (Q3 + 1.5 * IQR))] = np.nan\n",
    "\n",
    "# 線性插值\n",
    "df.interpolate(method='linear', inplace=True)\n",
    "\n",
    "print(df.isnull().any())\n",
    "print(df.describe())"
   ]
  },
  {
   "cell_type": "code",
   "execution_count": null,
   "metadata": {},
   "outputs": [],
   "source": [
    "df.to_csv('fea_preprocessed.csv') #將處理好的數據另存CSV檔"
   ]
  },
  {
   "attachments": {},
   "cell_type": "markdown",
   "metadata": {},
   "source": [
    "盒鬚圖異常檢測與插值(別種寫法)"
   ]
  },
  {
   "cell_type": "code",
   "execution_count": null,
   "metadata": {},
   "outputs": [],
   "source": [
    "from cmath import nan\n",
    "\n",
    "#第一次\n",
    "df.replace(99999,nan,inplace=True)\n",
    "Q1 = df.quantile(0.25)\n",
    "Q3 = df.quantile(0.75)\n",
    "IQR = Q3 - Q1\n",
    "df.mask(((df < (Q1 - 1.5 * IQR)) |(df > (Q3 + 1.5 * IQR))),other=nan,inplace=True)\n",
    "print(df.describe())\n",
    "\n",
    "list = df.columns.values.tolist()\n",
    "for i in list:\n",
    "\n",
    "    df[i].interpolate(method = 'linear', inplace=True)\n",
    "\n",
    "print(df.isnull().any())\n",
    "print(df.describe())\n",
    "\n",
    "#第二次\n",
    "Q1 = df.quantile(0.25)\n",
    "Q3 = df.quantile(0.75)\n",
    "IQR = Q3 - Q1\n",
    "df.mask(((df < (Q1 - 1.5 * IQR)) |(df > (Q3 + 1.5 * IQR))),other=nan,inplace=True)\n",
    "print(df.describe())\n",
    "\n",
    "list = df.columns.values.tolist()\n",
    "\n",
    "for i in list:\n",
    "\n",
    "    df[i].interpolate(method = 'linear', inplace=True)\n",
    "\n",
    "print(df.isnull().any())\n",
    "print(df.describe())\n",
    "\n",
    "df.to_csv('fea_preprocessed.csv')"
   ]
  },
  {
   "attachments": {},
   "cell_type": "markdown",
   "metadata": {},
   "source": [
    "將power欄位匯入到fea_preprocessed另存為all_pre.csv"
   ]
  },
  {
   "cell_type": "code",
   "execution_count": null,
   "metadata": {},
   "outputs": [],
   "source": [
    "\n",
    "df =pd.read_csv('fea_preprocessed.csv')\n",
    "df1 = pd.read_csv('power_raw.csv')\n",
    "df0 = pd.concat([df,df1['Power(kW)']],axis=1)\n",
    "df0.drop(df0.index[136730:], inplace=True)\n",
    "df0.to_csv('all_pre_new.csv',header=True,index=False)"
   ]
  },
  {
   "attachments": {},
   "cell_type": "markdown",
   "metadata": {},
   "source": [
    "觀察資料分布(可以不用跑)"
   ]
  },
  {
   "cell_type": "code",
   "execution_count": null,
   "metadata": {},
   "outputs": [],
   "source": [
    "import plotly.express as px\n",
    "from scipy import stats\n",
    "\n",
    "fig = px.line(df['']) #需填資料欄位\n",
    "\n",
    "fig.update_layout(\n",
    "    xaxis_title=\"X\",\n",
    "    yaxis_title=\"count\")\n",
    "\n",
    "fig.show()"
   ]
  },
  {
   "attachments": {},
   "cell_type": "markdown",
   "metadata": {},
   "source": [
    "Step2 平穩性檢測轉換"
   ]
  },
  {
   "attachments": {},
   "cell_type": "markdown",
   "metadata": {},
   "source": [
    "匯入不同年份資料集和觀察資料型態"
   ]
  },
  {
   "cell_type": "code",
   "execution_count": null,
   "metadata": {},
   "outputs": [],
   "source": [
    "import matplotlib.pyplot as plt\n",
    "import sys\n",
    "import numpy as np\n",
    "import pandas as pd\n",
    "from matplotlib.pyplot import axis\n",
    "from pandas import Series\n",
    "from statsmodels.tsa.stattools import adfuller, kpss\n",
    "\n",
    "pd.set_option('display.max_rows', None)\n",
    "pd.set_option('display.max_columns', None)\n",
    "\n",
    "all_df = pd.read_csv(\"all_pre_new.csv\") #2019-2021年資料\n",
    "all_df.drop(['Timestamp'],axis=1,inplace=True)\n",
    "\n",
    "all_df.info()\n",
    "print(all_df.isnull().sum())\n",
    "all_df.drop(['Tower Accelaration Normal Raw','Tower Deflection','Turbine State'],axis = 1,inplace = True)\n",
    "all_df.info()"
   ]
  },
  {
   "attachments": {},
   "cell_type": "markdown",
   "metadata": {},
   "source": [
    "ADF檢驗/KPSS檢驗"
   ]
  },
  {
   "cell_type": "code",
   "execution_count": null,
   "metadata": {},
   "outputs": [],
   "source": [
    "#define kpss test\n",
    "def kpss_test(timeseries):  \n",
    "    print('Results of KPSS Test:')\n",
    "    kpsstest = kpss(timeseries, regression = 'c')\n",
    "    kpss_output = Series(kpsstest[0:3], index = ['Test Statistic', 'p-value', 'Lags Used'])\n",
    "    for key, value in kpsstest[3].items():\n",
    "        kpss_output['Critical Value (%s)' %key] = value\n",
    "    print(kpss_output)\n",
    "\n",
    "#define adf test\n",
    "def adf_test(timeseries):   \n",
    "    print('Results of Dickey-Fuller Test:')\n",
    "    dftest = adfuller(timeseries, autolag = 'AIC')\n",
    "    dfoutput = Series(dftest[0:4], index = ['Test Statistic', 'p-value', \n",
    "                                               '#Lags Used', 'Number of Observations Used'])\n",
    "    for key, value in dftest[4].items():\n",
    "        dfoutput['Critical Value (%s)' %key] = value\n",
    "    print(dfoutput)\n",
    "\n",
    "kpss_test(all_df['Power(kW)'])  #adf平穩性檢驗\n",
    "adf_test(all_df['Power(kW)'])   #kpss平穩性檢驗\n",
    "\n",
    "#一階差分 (檢驗結果都為平穩就不用做)\n",
    "# diff_power = series['Power(kW)']-series['Power(kW)'].shift(1)\n",
    "# print(diff_power)\n",
    "# series['Power(kW)'] = diff_power\n",
    "# print(\"-------------\")\n",
    "# print(series['Power(kW)'])\n",
    "# print(\"-------------\")\n",
    "# series.fillna(0, inplace = True)\n",
    "# print(series['Power(kW)'])"
   ]
  },
  {
   "attachments": {},
   "cell_type": "markdown",
   "metadata": {},
   "source": [
    "Step3特徵選擇"
   ]
  },
  {
   "attachments": {},
   "cell_type": "markdown",
   "metadata": {},
   "source": [
    "相互資訊(MI)"
   ]
  },
  {
   "cell_type": "code",
   "execution_count": null,
   "metadata": {},
   "outputs": [],
   "source": [
    "from sklearn.feature_selection import mutual_info_regression as MIR\n",
    "\n",
    "mi_score = MIR(all_df.iloc[:, 0:73], all_df.iloc[:, 73])\n",
    "\n",
    "\n",
    "mi_score_selected_index1 = np.where(mi_score > 0.5)[0]\n",
    "mi_score_selected_index2 = np.where(mi_score > 0.6)[0]\n",
    "mi_score_selected_index3 = np.where(mi_score > 0.7)[0]\n",
    "mi_score_selected_index4 = np.where(mi_score > 0.8)[0]\n",
    "mi_score_selected_index5 = np.where(mi_score > 0.9)[0]\n",
    "mi_score_selected_index6 = np.where(mi_score > 1.0)[0]\n",
    "\n",
    "print(mi_score_selected_index1)\n",
    "print(mi_score_selected_index2)\n",
    "print(mi_score_selected_index3)\n",
    "print(mi_score_selected_index4)\n",
    "print(mi_score_selected_index5)\n",
    "print(mi_score_selected_index6)\n"
   ]
  },
  {
   "attachments": {},
   "cell_type": "markdown",
   "metadata": {},
   "source": [
    "特徵選擇的圖(跑結果才要放)"
   ]
  },
  {
   "cell_type": "code",
   "execution_count": null,
   "metadata": {},
   "outputs": [],
   "source": [
    "mi_score = pd.DataFrame(mi_score)\n",
    "\n",
    "values = mi_score.iloc[[ 0,  1,  2,  3,  4,  5,  6,  7,  8,  9, 10, 11, 12, 13, 15, 17, 18, 19, 22, 25, 27, 30, 32, 61, 62, 63, 64, 65, 66, 67, 68, 71, 72],:]\n",
    "values1 = mi_score.iloc[[ 0,  1,  2,  3,  4,  5,  6,  9, 10, 11, 12, 18, 19, 22, 25, 27, 61, 62, 63, 64, 65, 66, 67, 68, 71, 72],:]\n",
    "values2 = mi_score.iloc[[ 0,  1,  2,  3,  4,  5,  6,  9, 10, 11, 12, 22, 25, 61, 62, 63, 64, 65, 66, 67, 68, 72],:]\n",
    "values3 = mi_score.iloc[[ 0,  1,  2,  3,  4,  5,  6,  9, 12, 22, 61, 62, 63, 64, 65, 66, 67, 68],:]\n",
    "values4 = mi_score.iloc[[ 0,  1,  5, 12, 22, 61, 62, 63, 64, 65, 66, 67, 68],:]\n",
    "values5 = mi_score.iloc[[12, 61, 62, 63, 64, 65, 66, 67, 68],:]\n",
    "\n",
    "print(values)\n",
    "print('------')\n",
    "print(values1)\n",
    "print('------')\n",
    "print(values2)\n",
    "print('------')\n",
    "print(values3)\n",
    "print('------')\n",
    "print(values4)\n",
    "print('------')\n",
    "print(values5)\n",
    "\n",
    "#特徵33的圖 >0.5\n",
    "x=[ 1,  2,  3,  4,  5,  6,  7,  8,  9,  10, 11, 12, 13, 14, 15, 16, 17, 18, 19, 20, 21, 22, 23, 24, 25, 26, 27, 28, 29, 30, 31, 32, 33]\n",
    "h=[0.971,0.996,0.867,0.843,0.855,0.967,0.859,0.589,0.538,0.84,0.791,0.789,1.309,0.586,0.579,0.571,0.608,0.608,0.963,0.7,0.617,0.557,0.576,1.075,1.075,1.073,1.067,1.068,1.155,1.073,1.064,0.6,0.735]\n",
    "label = ['0','1','2','3','4','5','6','7','8','9','10','11','12','13','15','17','18','19','22','25','27','30','32','61','62','63','64','65','66','67','68','71','72']\n",
    "plt.figure(figsize=(10, 5))\n",
    "plt.bar(x,h,tick_label=label,width=0.6)\n",
    "plt.title('Feature Importance')\n",
    "plt.xlabel('feature')\n",
    "plt.ylabel('importance')\n",
    "plt.show()\n",
    "\n",
    "#特徵26的圖 >0.6\n",
    "x=[ 1,  2,  3,  4,  5,  6,  7,  8,  9,  10, 11, 12, 13, 14, 15, 16, 17, 18, 19, 20, 21, 22, 23, 24, 25, 26]\n",
    "h=[0.971,0.996,0.867,0.843,0.855,0.967,0.859,0.84,0.791,0.789,1.309,0.608,0.608,0.963,0.7,0.617,1.075,1.075,1.073,1.067,1.068,1.155,1.073,1.064,0.6,0.735]\n",
    "label = ['0','1','2','3','4','5','6','9','10','11','12','18','19','22','25','27','61','62','63','64','65','66','67','68','71','72']\n",
    "plt.figure(figsize=(10, 5))\n",
    "plt.bar(x,h,tick_label=label,width=0.6)\n",
    "plt.title('Feature Importance')\n",
    "plt.xlabel('feature')\n",
    "plt.ylabel('importance')\n",
    "plt.show()\n",
    "\n",
    "#特徵22的圖 >0.7\n",
    "x=[ 1,  2,  3,  4,  5,  6,  7,  8,  9,  10, 11, 12, 13, 14, 15, 16, 17, 18, 19, 20, 21, 22]\n",
    "h=[0.971,0.996,0.867,0.843,0.855,0.967,0.859,0.84,0.791,0.789,1.309,0.963,0.7,1.075,1.075,1.073,1.067,1.068,1.155,1.073,1.064,0.735]\n",
    "label = ['0','1','2','3','4','5','6','9','10','11','12','22','25','61','62','63','64','65','66','67','68','72']\n",
    "plt.figure(figsize=(10, 5))\n",
    "plt.bar(x,h,tick_label=label,width=0.6)\n",
    "plt.title('Feature Importance')\n",
    "plt.xlabel('feature')\n",
    "plt.ylabel('importance')\n",
    "plt.show()\n",
    "\n",
    "#特徵18的圖 >0.8\n",
    "x=[ 1,  2,  3,  4,  5,  6,  7,  8,  9,  10, 11, 12, 13, 14, 15, 16, 17, 18]\n",
    "h=[0.971,0.996,0.867,0.843,0.855,0.967,0.859,0.84,1.309,0.963,1.075,1.075,1.073,1.067,1.068,1.155,1.073,1.064]\n",
    "label = ['0','1','2','3','4','5','6','9','12','22','61','62','63','64','65','66','67','68']\n",
    "plt.figure(figsize=(10, 5))\n",
    "plt.bar(x,h,tick_label=label,width=0.6)\n",
    "plt.title('Feature Importance')\n",
    "plt.xlabel('feature')\n",
    "plt.ylabel('importance')\n",
    "plt.show()\n",
    "\n",
    "#特徵13的圖>0.9\n",
    "x=[ 1,  2,  3,  4,  5,  6,  7,  8,  9,  10, 11, 12, 13]\n",
    "h=[0.971,0.996,0.967,1.309,0.963,1.075,1.075,1.073,1.067,1.068,1.155,1.073,1.064]\n",
    "label = ['0','1','5','12','22','61','62','63','64','65','66','67','68']\n",
    "plt.figure(figsize=(10, 5))\n",
    "plt.bar(x,h,tick_label=label,width=0.6)\n",
    "plt.title('Feature Importance')\n",
    "plt.xlabel('feature')\n",
    "plt.ylabel('importance')\n",
    "plt.show()\n",
    "\n",
    "#特徵9的圖>1.0\n",
    "x=[ 1,  2,  3,  4,  5,  6,  7,  8,  9]\n",
    "h=[1.309,1.075,1.075,1.073,1.067,1.068,1.155,1.073,1.064]\n",
    "label = ['12','61','62','63','64','65','66','67','68']\n",
    "plt.figure(figsize=(10, 5))\n",
    "plt.bar(x,h,tick_label=label,width=0.6)\n",
    "plt.title('Feature Importance')\n",
    "plt.xlabel('feature')\n",
    "plt.ylabel('importance')\n",
    "plt.show()"
   ]
  },
  {
   "attachments": {},
   "cell_type": "markdown",
   "metadata": {},
   "source": [
    "篩選出重要特徵並另存CSV檔 手動將時間欄位輸入"
   ]
  },
  {
   "cell_type": "code",
   "execution_count": null,
   "metadata": {},
   "outputs": [],
   "source": [
    "fea_33 = all_df.iloc[:,[ 0,  1,  2,  3,  4,  5,  6,  7,  8,  9, 10, 11, 12, 13, 15, 17, 18, 19, 22, 25, 27, 30, 32, 61, 62, 63, 64, 65, 66, 67, 68, 71, 72, 73]]\n",
    "fea_26 = all_df.iloc[:,[ 0,  1,  2,  3,  4,  5,  6,  9, 10, 11, 12, 18, 19, 22, 25, 27, 61, 62, 63, 64, 65, 66, 67, 68, 71, 72, 73]]\n",
    "fea_22 = all_df.iloc[:,[ 0,  1,  2,  3,  4,  5,  6,  9, 10, 11, 12, 22, 25, 61, 62, 63, 64, 65, 66, 67, 68, 72, 73]]\n",
    "fea_18 = all_df.iloc[:,[ 0,  1,  2,  3,  4,  5,  6,  9, 12, 22, 61, 62, 63, 64, 65, 66, 67, 68, 73]]\n",
    "fea_13 = all_df.iloc[:,[ 0,  1,  5, 12, 22, 61, 62, 63, 64, 65, 66, 67, 68, 73]]\n",
    "fea_9  = all_df.iloc[:,[12, 61, 62, 63, 64, 65, 66, 67, 68, 73]]\n",
    "\n",
    "fea_33.info()\n",
    "fea_26.info()\n",
    "fea_22.info()\n",
    "fea_18.info()\n",
    "fea_13.info()\n",
    "fea_9.info()\n",
    "\n",
    "fea_33.to_csv(r'D:\\堉豪論文\\堉豪',header=True,index=False)\n",
    "fea_26.to_csv(r'D:\\堉豪論文\\堉豪',header=True,index=False)\n",
    "fea_22.to_csv(r'D:\\堉豪論文\\堉豪',header=True,index=False)\n",
    "fea_18.to_csv(r'D:\\堉豪論文\\堉豪',header=True,index=False)\n",
    "fea_13.to_csv(r'D:\\堉豪論文\\堉豪',header=True,index=False)\n",
    "fea_9.to_csv('fea_9_notime.csv',header=True,index=False)"
   ]
  }
 ],
 "metadata": {
  "kernelspec": {
   "display_name": "tf",
   "language": "python",
   "name": "python3"
  },
  "language_info": {
   "codemirror_mode": {
    "name": "ipython",
    "version": 3
   },
   "file_extension": ".py",
   "mimetype": "text/x-python",
   "name": "python",
   "nbconvert_exporter": "python",
   "pygments_lexer": "ipython3",
   "version": "3.9.16"
  },
  "orig_nbformat": 4,
  "vscode": {
   "interpreter": {
    "hash": "2d974c4b7c9167b3c2df7ef2f40c9ab050914ef25a32a81d1263224e0dc77032"
   }
  }
 },
 "nbformat": 4,
 "nbformat_minor": 2
}
